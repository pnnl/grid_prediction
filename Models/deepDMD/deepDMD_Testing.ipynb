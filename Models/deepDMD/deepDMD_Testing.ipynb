{
 "cells": [
  {
   "cell_type": "markdown",
   "metadata": {},
   "source": [
    "## This code loads a test initial condition and predicts the system state from that initial condition for a specified number of time-points into the future using the deepDMD model."
   ]
  },
  {
   "cell_type": "code",
   "execution_count": null,
   "metadata": {},
   "outputs": [],
   "source": [
    "import scipy.io as sio\n",
    "import tensorflow as tf\n",
    "import numpy as np\n",
    "import scipy\n",
    "import os \n",
    "import matplotlib.pyplot as plt\n",
    "from time import process_time\n",
    "from SM_wo_control import SurrogateModel\n",
    "\n",
    "# Save Dir name\n",
    "dir_name = 'Models/'\n",
    "\n",
    "# Call the Surrogate Model. \n",
    "SM = SurrogateModel()"
   ]
  },
  {
   "cell_type": "code",
   "execution_count": null,
   "metadata": {},
   "outputs": [],
   "source": [
    "# Mention the scenario.\n",
    "test_scen = 410\n",
    "filepath='../../Data/Test/scenario1/PMUData.mat'\n",
    "mat_file_data = sio.loadmat(filepath)\n",
    "o_f_data  = mat_file_data['PMU']['f'][0][0]\n",
    "o_Vm_data = mat_file_data['PMU']['Vm'][0][0]\n",
    "f_data  = 2*np.pi*(o_f_data-60)\n",
    "Vm_data = 10*(o_Vm_data - 1)\n",
    "\n",
    "start_point = 101\n",
    "end_point   = start_point+1\n",
    "# Collect the initial condition. \n",
    "X0 = np.concatenate((f_data[range(start_point,end_point)], Vm_data[range(start_point,end_point)]), axis = 1)\n",
    "# Number of time steps prediction is needed. \n",
    "num_time_steps = 500\n",
    "# Predict the initial condition. \n",
    "X_pred = SM.predict(X0, num_time_steps)\n",
    "# Plot the predictions. \n",
    "data_window = np.multiply(range(end_point,end_point+num_time_steps),0.02)\n",
    "# plt.plot(data_window,o_f_data[range(end_point,end_point+num_time_steps)],'b')\n",
    "# plt.plot(data_window,60+(1/(2*np.pi))*X_pred[:,:68],'r--',linewidth = 2)\n",
    "chose_buses = np.arange(0,67) #[1, 28, 35, 63, 67]\n",
    "\n",
    "fig, (ax1, ax2) = plt.subplots(2,1)\n",
    "\n",
    "ax1.plot(data_window,o_f_data[end_point:end_point+num_time_steps,chose_buses],'b')\n",
    "ax1.plot(data_window,60+(1/(2*np.pi))*X_pred[:,chose_buses],'r--',linewidth = 2)\n",
    "ax1.set_title('On the State space - Scenario ' + str(test_scen))\n",
    "ax1.set_ylabel('Frequency [Hz]')\n",
    "\n",
    "# plt.plot(data_window,o_Vm_data[range(end_point,end_point+num_time_steps)],'b')\n",
    "# plt.plot(data_window,1+0.1*X_pred[:,68:136],'r--',linewidth = 2)\n",
    "ax2.plot(data_window,o_Vm_data[end_point:end_point+num_time_steps,chose_buses],'b')\n",
    "ax2.plot(data_window,1+0.1*X_pred[:,[x1+68 for x1 in chose_buses]],'r--',linewidth = 2)\n",
    "# ax2.set_title('On the State space - Scenario ' + str(test_scen))\n",
    "ax2.set_xlabel('Time')\n",
    "ax2.set_ylabel('Voltage Magnitude [pu]')\n",
    "plt.savefig(dir_name+\"Test_prediction_deepDMD_Scenario_\" + str(test_scen)\".png\", dpi=300)\n",
    "plt.show()"
   ]
  }
 ],
 "metadata": {
  "kernelspec": {
   "display_name": "Python 3.8.8 64-bit ('mytf2': conda)",
   "name": "python388jvsc74a57bd0088a6348205d41d4c821a87e988eed39ae4b1b43bcbaf1a856a2c283ec9a191f"
  },
  "language_info": {
   "codemirror_mode": {
    "name": "ipython",
    "version": 3
   },
   "file_extension": ".py",
   "mimetype": "text/x-python",
   "name": "python",
   "nbconvert_exporter": "python",
   "pygments_lexer": "ipython3",
   "version": "3.8.8"
  }
 },
 "nbformat": 4,
 "nbformat_minor": 4
}